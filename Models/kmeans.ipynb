{
 "cells": [
  {
   "attachments": {},
   "cell_type": "markdown",
   "metadata": {},
   "source": [
    "# Clustering\n",
    "\n",
    "### Hierarchical clustering:\n",
    "- Clustering approach in which cluster boundaries are nested to each other, creating a parent/child relationship.\n",
    "- This nested structure between clusters creates a hierarchy, that is often represented in the form of a cluster tree, known as dendogram\n",
    "\n",
    "### Partitional Clustering:\n",
    "- Each cluster boundary is independent of the others. There is no hierarchy between clusters. Dividing data objects into non overlapping groups.\n",
    "- No object can be a member of more than one cluster, and each cluster have at least one object\n",
    "\n",
    "### Overlaping Clustering\n",
    "- Approach in which the boundary of one cluster can overlap that of another. Each object of the dataset can be member of one or more clusters. \n",
    "- There is no parent-child relationship here, the boundaries of the child not always are in the boundaries of the parent\n",
    "\n",
    "### Fuzzy/soft clustering\n",
    "- the membership of an item to a particulary cluster, is based on a membership weight that goes between 0 and 1. The larger the weight, the greater the item belongs to a particular cluster.\n",
    "- If the weight is 0, the item absolutely does not belong to the cluster. If the weight is 1, then the item absolutely belong to the cluster.\n",
    "\n",
    "### Density based clustering\n",
    "- Determine cluster assignments based on the density of data points in a region\n",
    "- Clusters are assign where there are high densities of data points separated by low density regions"
   ]
  },
  {
   "attachments": {},
   "cell_type": "markdown",
   "metadata": {},
   "source": [
    "## The k-Means belongs to partitional clustering\n",
    "- How many clusters 'k' do we want?\n",
    "- The algorithm uses a process known as expectation maximization to assign every item to one and only one cluster\n",
    "- Calculates the Euclidian distance between each point and each of the clusters centers"
   ]
  },
  {
   "attachments": {},
   "cell_type": "markdown",
   "metadata": {},
   "source": [
    "### How to choose the right 'k'?\n",
    "- Based on a priori knowledge or business requirements\n",
    "- Using a rule of thumb, such as k ~= (n/2)^(1/2). But only with small datasets\n",
    "- Using one or more statistical measures, such as the Elbow method, the average Silhouete method and the Calinski-Harabasz Score"
   ]
  },
  {
   "cell_type": "code",
   "execution_count": null,
   "metadata": {},
   "outputs": [],
   "source": []
  }
 ],
 "metadata": {
  "language_info": {
   "name": "python"
  },
  "orig_nbformat": 4
 },
 "nbformat": 4,
 "nbformat_minor": 2
}
